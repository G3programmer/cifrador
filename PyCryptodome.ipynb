{
  "nbformat": 4,
  "nbformat_minor": 0,
  "metadata": {
    "colab": {
      "provenance": []
    },
    "kernelspec": {
      "name": "python3",
      "display_name": "Python 3"
    },
    "language_info": {
      "name": "python"
    }
  },
  "cells": [
    {
      "cell_type": "code",
      "execution_count": 1,
      "metadata": {
        "colab": {
          "base_uri": "https://localhost:8080/"
        },
        "id": "4cGRCjp_GgEx",
        "outputId": "f2a7400e-9f2f-45a9-ca72-fd47c2f867c6"
      },
      "outputs": [
        {
          "output_type": "stream",
          "name": "stdout",
          "text": [
            "Collecting pycryptodome\n",
            "  Downloading pycryptodome-3.23.0-cp37-abi3-manylinux_2_17_x86_64.manylinux2014_x86_64.whl.metadata (3.4 kB)\n",
            "Downloading pycryptodome-3.23.0-cp37-abi3-manylinux_2_17_x86_64.manylinux2014_x86_64.whl (2.3 MB)\n",
            "\u001b[2K   \u001b[90m━━━━━━━━━━━━━━━━━━━━━━━━━━━━━━━━━━━━━━━━\u001b[0m \u001b[32m2.3/2.3 MB\u001b[0m \u001b[31m30.8 MB/s\u001b[0m eta \u001b[36m0:00:00\u001b[0m\n",
            "\u001b[?25hInstalling collected packages: pycryptodome\n",
            "Successfully installed pycryptodome-3.23.0\n"
          ]
        }
      ],
      "source": [
        "pip install pycryptodome"
      ]
    },
    {
      "cell_type": "code",
      "source": [
        "#Importar as funções necessárias:\n",
        "\n",
        "from Crypto.PublicKey import RSA\n",
        "from Crypto.Random import get_random_bytes\n",
        "from Crypto.Cipher import AES, PKCS1_OAEP\n",
        "\n",
        "#Gerar as chaves pública e privada nos arquivos \"destinatario.pem\" e \"chavePrivada.pem\", respectivamente:\n",
        "\n",
        "chave=RSA.generate(2048)\n",
        "chavePrivada=chave.export_key()\n",
        "arquivoDeSaida=open(\"chavePrivada.pem\", \"wb\")\n",
        "arquivoDeSaida.write(chavePrivada)\n",
        "arquivoDeSaida.close()\n",
        "\n",
        "chavePublica=chave.publickey().export_key()\n",
        "arquivoDeSaida=open(\"destinatario.pem\", \"wb\")\n",
        "arquivoDeSaida.write(chavePublica)\n",
        "arquivoDeSaida.close()\n",
        "\n",
        "#Cifrar o texto utilizando chave da sessão cifrada com chave pública RSA:\n",
        "\n",
        "texto=input(\"Digite o texto a ser cifrado: \").encode(\"utf-8\")\n",
        "\n",
        "arquivoDeSaida=open(\"textoCifrado.bin\", \"wb\")\n",
        "\n",
        "chaveDoDestinatario=RSA.import_key(open(\"destinatario.pem\").read())\n",
        "chaveDaSessao=get_random_bytes(16)\n",
        "\n",
        "#Cifrar a chave da sessão com a chave pública RSA\n",
        "\n",
        "cifraRSA=PKCS1_OAEP.new(chaveDoDestinatario)\n",
        "chaveEncaminhadaDaSessao=cifraRSA.encrypt(chaveDaSessao)\n",
        "\n",
        "#Cifrar o texto com a chave da sessão:\n",
        "\n",
        "cifraAES=AES.new(chaveDaSessao, AES.MODE_EAX)\n",
        "textoCifrado, tag = cifraAES.encrypt_and_digest(texto)\n",
        "[arquivoDeSaida.write(x) for x in (chaveEncaminhadaDaSessao, cifraAES.nonce, tag, textoCifrado)]\n",
        "arquivoDeSaida.close()\n",
        "\n",
        "print(\"Texto criptografado:\", textoCifrado)\n",
        "\n",
        "#Destinatário possui a chave privada RSA para ler o texto:\n",
        "\n",
        "arquivoDeEntrada=open(\"textoCifrado.bin\", \"rb\")\n",
        "\n",
        "chavePrivada=RSA.import_key(open(\"chavePrivada.pem\").read())\n",
        "\n",
        "chaveEncaminhadaDaSessao, nonce, tag, textoCifrado = \\\n",
        "[arquivoDeEntrada.read(x) for x in (chavePrivada.size_in_bytes(), 16, 16, -1)]\n",
        "arquivoDeEntrada.close()\n",
        "\n",
        "#Decodificar a chave da sessão com a chave privada RSA:\n",
        "cifraRSA=PKCS1_OAEP.new(chavePrivada)\n",
        "chaveDaSessao=cifraRSA.decrypt(chaveEncaminhadaDaSessao)\n",
        "\n",
        "#Decodificar o texto com a chave da sessão:\n",
        "cifraAES=AES.new(chaveDaSessao, AES.MODE_EAX, nonce)\n",
        "texto=cifraAES.decrypt_and_verify(textoCifrado, tag)\n",
        "print(\"Texto descriptografado:\", texto.decode(\"utf-8\"))"
      ],
      "metadata": {
        "colab": {
          "base_uri": "https://localhost:8080/"
        },
        "id": "7qvEbdfbGgfP",
        "outputId": "f3581384-a7f9-460e-d4d6-d0695b7aea85"
      },
      "execution_count": 2,
      "outputs": [
        {
          "output_type": "stream",
          "name": "stdout",
          "text": [
            "Digite o texto a ser cifrado: fawefv43v34r44awre\n",
            "Texto criptografado: b'*\\xa9\\xc1p,\\x0b\\x9fD/\\xc5d\\x94\\x17\\xc9\\x87C\\x89\\x84'\n",
            "Texto descriptografado: fawefv43v34r44awre\n"
          ]
        }
      ]
    }
  ]
}